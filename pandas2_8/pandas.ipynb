{
 "cells": [
  {
   "cell_type": "markdown",
   "metadata": {},
   "source": [
    "### PANDAS 2\n",
    "- Write a Pandas program to filter those records where WHO region matches with multiple values (Africa, Eastern Mediterranean, Europe) from world alcohol consumption dataset"
   ]
  },
  {
   "cell_type": "code",
   "execution_count": 1,
   "metadata": {},
   "outputs": [
    {
     "name": "stdout",
     "output_type": "stream",
     "text": [
      "    Year WHO region            Country Beverage Types  Display Value\n",
      "2   1985     Africa       Cte d'Ivoire           Wine           1.62\n",
      "6   1987     Africa          Mauritius           Wine           0.13\n",
      "7   1985     Africa             Angola        Spirits           0.39\n",
      "9   1984     Africa            Nigeria          Other           6.10\n",
      "10  1987     Africa           Botswana           Wine           0.20\n",
      "..   ...        ...                ...            ...            ...\n",
      "93  1987     Africa         Madagascar          Other            NaN\n",
      "94  1985     Europe            Ukraine        Spirits           3.06\n",
      "95  1984     Africa              Niger          Other           0.00\n",
      "96  1985     Europe         Luxembourg           Wine           7.38\n",
      "98  1984     Africa  Equatorial Guinea           Wine           0.00\n",
      "\n",
      "[69 rows x 5 columns]\n"
     ]
    }
   ],
   "source": [
    "import pandas as pd\n",
    "\n",
    "df = pd.read_csv('./data/world_alcohol.csv')\n",
    "\n",
    "#filter records where WHO region matches with multiple values\n",
    "filtered_df = df[df['WHO region'].isin(['Africa', 'Eastern Mediterranean', 'Europe'])]\n",
    "\n",
    "print(filtered_df)"
   ]
  },
  {
   "cell_type": "markdown",
   "metadata": {},
   "source": [
    "### PANDAS 3\n",
    "- Write a Pandas program to filter those records which not appears in a given list from world alcohol consumption dataset\n"
   ]
  },
  {
   "cell_type": "code",
   "execution_count": 2,
   "metadata": {},
   "outputs": [
    {
     "name": "stdout",
     "output_type": "stream",
     "text": [
      "    Year       WHO region                                Country  \\\n",
      "0   1986  Western Pacific                               Viet Nam   \n",
      "1   1986         Americas                                Uruguay   \n",
      "2   1985           Africa                           Cte d'Ivoire   \n",
      "3   1986         Americas                               Colombia   \n",
      "4   1987         Americas                  Saint Kitts and Nevis   \n",
      "..   ...              ...                                    ...   \n",
      "95  1984           Africa                                  Niger   \n",
      "96  1985           Europe                             Luxembourg   \n",
      "97  1984  South-East Asia                              Indonesia   \n",
      "98  1984           Africa                      Equatorial Guinea   \n",
      "99  1985  South-East Asia  Democratic People's Republic of Korea   \n",
      "\n",
      "   Beverage Types  Display Value  \n",
      "0            Wine           0.00  \n",
      "1           Other           0.50  \n",
      "2            Wine           1.62  \n",
      "3            Beer           4.27  \n",
      "4            Beer           1.98  \n",
      "..            ...            ...  \n",
      "95          Other           0.00  \n",
      "96           Wine           7.38  \n",
      "97           Wine           0.00  \n",
      "98           Wine           0.00  \n",
      "99           Wine           0.00  \n",
      "\n",
      "[100 rows x 5 columns]\n"
     ]
    }
   ],
   "source": [
    "import pandas as pd\n",
    "\n",
    "df = pd.read_csv('./data/world_alcohol.csv')\n",
    "\n",
    "#records which not appers\n",
    "given_list = ['USA', 'Canada', 'France']\n",
    "\n",
    "filtered_df = df[~df['Country'].isin(given_list)]\n",
    "\n",
    "print(filtered_df)"
   ]
  },
  {
   "cell_type": "markdown",
   "metadata": {},
   "source": [
    "### PANDAS 4\n",
    "- Write a Pandas program to filter all records where the average consumption of beverages per person from .5 to 2.50 in world alcohol consumption dataset"
   ]
  },
  {
   "cell_type": "code",
   "execution_count": 3,
   "metadata": {},
   "outputs": [
    {
     "name": "stdout",
     "output_type": "stream",
     "text": [
      "    Year             WHO region                                               Country Beverage Types  Display Value\n",
      "1   1986               Americas                                               Uruguay          Other           0.50\n",
      "2   1985                 Africa                                          Cte d'Ivoire           Wine           1.62\n",
      "4   1987               Americas                                 Saint Kitts and Nevis           Beer           1.98\n",
      "8   1986               Americas                                   Antigua and Barbuda        Spirits           1.55\n",
      "11  1989               Americas                                             Guatemala           Beer           0.62\n",
      "17  1989                 Africa                                            Seychelles           Beer           2.23\n",
      "18  1984                 Europe                                                Norway        Spirits           1.62\n",
      "19  1984                 Africa                                                 Kenya           Beer           1.08\n",
      "26  1985                 Europe  United Kingdom of Great Britain and Northern Ireland           Wine           1.36\n",
      "27  1984  Eastern Mediterranean                                               Bahrain           Beer           2.22\n",
      "32  1989                 Africa                                             Mauritius           Beer           1.60\n",
      "34  1986                 Europe                                    Russian Federation           Wine           0.80\n",
      "35  1985               Americas                                 Saint Kitts and Nevis        Spirits           2.24\n",
      "40  1987                 Europe                                               Austria        Spirits           1.90\n",
      "46  1987               Americas                                   Trinidad and Tobago        Spirits           2.26\n",
      "48  1987               Americas                                             Nicaragua           Beer           0.70\n",
      "49  1986                 Europe                                                 Malta           Wine           1.49\n",
      "54  1984               Americas                                           El Salvador        Spirits           1.81\n",
      "64  1989               Americas                      Bolivia (Plurinational State of)           Beer           1.26\n",
      "70  1986                 Africa                                            Madagascar        Spirits           1.02\n",
      "71  1985                 Africa                                                  Mali          Other           0.57\n",
      "74  1986               Americas                      Bolivia (Plurinational State of)        Spirits           2.06\n",
      "79  1989                 Europe                                               Finland          Other           2.09\n",
      "80  1985                 Africa                                                Malawi          Other           0.84\n",
      "82  1987                 Europe                                               Ireland        Spirits           2.25\n",
      "86  1986               Americas                                               Bahamas           Wine           1.83\n",
      "89  1986  Eastern Mediterranean                                               Lebanon           Wine           0.70\n"
     ]
    }
   ],
   "source": [
    "import pandas as pd\n",
    "\n",
    "df = pd.read_csv('./data/world_alcohol.csv')\n",
    "\n",
    "#filter records where average consumption of beverages per person from 0.5 to 2.5\n",
    "filtered_df = df[(df['Display Value'] >= 0.5) & (df['Display Value'] <= 2.5)]\n",
    "\n",
    "print(filtered_df.to_string())\n"
   ]
  },
  {
   "cell_type": "markdown",
   "metadata": {},
   "source": [
    "### PANDAS 5\n",
    "\n",
    "- Write a Pandas program to find number of consumption of wine per person greater than 2 in world alcohol consumption dataset."
   ]
  },
  {
   "cell_type": "code",
   "execution_count": 4,
   "metadata": {},
   "outputs": [
    {
     "name": "stdout",
     "output_type": "stream",
     "text": [
      "24\n"
     ]
    }
   ],
   "source": [
    "import pandas as pd\n",
    "\n",
    "df = pd.read_csv('./data/world_alcohol.csv')\n",
    "\n",
    "#filter records where wine consumption per person is greater than 2\n",
    "filtered_df = df[(df['Beverage Types'] == 'Wine') & (df['Display Value'] < 2)]\n",
    "\n",
    "print(len(filtered_df))"
   ]
  },
  {
   "cell_type": "markdown",
   "metadata": {},
   "source": [
    "### PANDAS 6 - 7\n",
    "- Write a Pandas program to select consecutive columns and also select rows with Index label 0 to 9 with some columns from world alcohol consumption dataset"
   ]
  },
  {
   "cell_type": "code",
   "execution_count": 5,
   "metadata": {},
   "outputs": [
    {
     "name": "stdout",
     "output_type": "stream",
     "text": [
      "        WHO region                Country Beverage Types\n",
      "0  Western Pacific               Viet Nam           Wine\n",
      "1         Americas                Uruguay          Other\n",
      "2           Africa           Cte d'Ivoire           Wine\n",
      "3         Americas               Colombia           Beer\n",
      "4         Americas  Saint Kitts and Nevis           Beer\n",
      "5         Americas              Guatemala          Other\n",
      "6           Africa              Mauritius           Wine\n",
      "7           Africa                 Angola        Spirits\n",
      "8         Americas    Antigua and Barbuda        Spirits\n",
      "9           Africa                Nigeria          Other\n"
     ]
    }
   ],
   "source": [
    "import pandas as pd\n",
    "\n",
    "df = pd.read_csv('./data/world_alcohol.csv')\n",
    "\n",
    "# Select consecutive columns and rows\n",
    "selected_df = df.iloc[0:10, 1:4] \n",
    "\n",
    "print(selected_df)\n"
   ]
  },
  {
   "cell_type": "markdown",
   "metadata": {},
   "source": [
    "### PANDAS 8\n",
    "- Write a Pandas program to filter all records starting from the 2nd row, access every 5th row from world alcohol consumption dataset"
   ]
  },
  {
   "cell_type": "code",
   "execution_count": 6,
   "metadata": {},
   "outputs": [
    {
     "name": "stdout",
     "output_type": "stream",
     "text": [
      "    Year             WHO region                                               Country Beverage Types  Display Value\n",
      "1   1986               Americas                                               Uruguay          Other           0.50\n",
      "6   1987                 Africa                                             Mauritius           Wine           0.13\n",
      "11  1989               Americas                                             Guatemala           Beer           0.62\n",
      "16  1984               Americas                                            Costa Rica           Wine           0.06\n",
      "21  1989               Americas                                            Costa Rica        Spirits           4.51\n",
      "26  1985                 Europe  United Kingdom of Great Britain and Northern Ireland           Wine           1.36\n",
      "31  1986        Western Pacific                      Micronesia (Federated States of)           Wine           0.00\n",
      "36  1987  Eastern Mediterranean                                                 Egypt           Beer           0.07\n",
      "41  1986                 Europe                                        Czech Republic           Beer           6.82\n",
      "46  1987               Americas                                   Trinidad and Tobago        Spirits           2.26\n",
      "51  1987                 Europe                                               Finland           Beer           3.88\n",
      "56  1987        Western Pacific                                              Viet Nam           Wine           0.00\n",
      "61  1984        Western Pacific                                      Papua New Guinea        Spirits           0.08\n",
      "66  1987  Eastern Mediterranean                                                  Iraq           Wine           0.01\n",
      "71  1985                 Africa                                                  Mali          Other           0.57\n",
      "76  1985                 Africa                                               Comoros           Beer           0.02\n",
      "81  1985                 Europe                                           Netherlands           Wine           2.54\n",
      "86  1986               Americas                                               Bahamas           Wine           1.83\n",
      "91  1989                 Europe                                              Bulgaria           Beer           4.43\n",
      "96  1985                 Europe                                            Luxembourg           Wine           7.38\n"
     ]
    }
   ],
   "source": [
    "import pandas as pd\n",
    "\n",
    "df = pd.read_csv('./data/world_alcohol.csv')\n",
    "\n",
    "# Filter records from the 2nd row and access every 5th row\n",
    "filtered_df = df.iloc[1::5, :]\n",
    "\n",
    "print(filtered_df.to_string())"
   ]
  }
 ],
 "metadata": {
  "kernelspec": {
   "display_name": "Python 3",
   "language": "python",
   "name": "python3"
  },
  "language_info": {
   "codemirror_mode": {
    "name": "ipython",
    "version": 3
   },
   "file_extension": ".py",
   "mimetype": "text/x-python",
   "name": "python",
   "nbconvert_exporter": "python",
   "pygments_lexer": "ipython3",
   "version": "3.13.0"
  }
 },
 "nbformat": 4,
 "nbformat_minor": 2
}
