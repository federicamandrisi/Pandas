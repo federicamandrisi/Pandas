{
 "cells": [
  {
   "cell_type": "markdown",
   "metadata": {},
   "source": [
    "## PANDAS 2"
   ]
  },
  {
   "cell_type": "markdown",
   "metadata": {},
   "source": [
    "### Write a Pandas program to filter those records where WHO region matches with multiple values (Africa, Eastern Mediterranean, Europe) from world alcohol consumption dataset"
   ]
  },
  {
   "cell_type": "code",
   "execution_count": 9,
   "metadata": {},
   "outputs": [
    {
     "name": "stdout",
     "output_type": "stream",
     "text": [
      "    Year WHO region            Country Beverage Types  Display Value\n",
      "2   1985     Africa       Cte d'Ivoire           Wine           1.62\n",
      "6   1987     Africa          Mauritius           Wine           0.13\n",
      "7   1985     Africa             Angola        Spirits           0.39\n",
      "9   1984     Africa            Nigeria          Other           6.10\n",
      "10  1987     Africa           Botswana           Wine           0.20\n",
      "..   ...        ...                ...            ...            ...\n",
      "93  1987     Africa         Madagascar          Other            NaN\n",
      "94  1985     Europe            Ukraine        Spirits           3.06\n",
      "95  1984     Africa              Niger          Other           0.00\n",
      "96  1985     Europe         Luxembourg           Wine           7.38\n",
      "98  1984     Africa  Equatorial Guinea           Wine           0.00\n",
      "\n",
      "[69 rows x 5 columns]\n"
     ]
    }
   ],
   "source": [
    "import pandas as pd\n",
    "\n",
    "df = pd.read_csv('./data/world_alcohol.csv')\n",
    "\n",
    "filtered_df = df[df['WHO region'].isin(['Africa', 'Eastern Mediterranean', 'Europe'])]\n",
    "\n",
    "print(filtered_df)\n"
   ]
  }
 ],
 "metadata": {
  "kernelspec": {
   "display_name": "Python 3",
   "language": "python",
   "name": "python3"
  },
  "language_info": {
   "codemirror_mode": {
    "name": "ipython",
    "version": 3
   },
   "file_extension": ".py",
   "mimetype": "text/x-python",
   "name": "python",
   "nbconvert_exporter": "python",
   "pygments_lexer": "ipython3",
   "version": "3.13.0"
  }
 },
 "nbformat": 4,
 "nbformat_minor": 2
}
