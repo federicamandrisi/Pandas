{
 "cells": [
  {
   "cell_type": "markdown",
   "metadata": {},
   "source": [
    "#### Create a dataframe of ten rows, four columns with random values. Convert some values to nan values. Write a Pandas program which will highlight the nan values."
   ]
  },
  {
   "cell_type": "code",
   "execution_count": 1,
   "metadata": {},
   "outputs": [],
   "source": [
    "import pandas as pd\n",
    "import numpy as np\n",
    "import seaborn as sns\n",
    "import matplotlib.pyplot as plt"
   ]
  },
  {
   "cell_type": "code",
   "execution_count": 2,
   "metadata": {},
   "outputs": [],
   "source": [
    "#creation of dataframe with random values\n",
    "np.random.seed(42) \n",
    "data = np.random.rand(10, 4)\n",
    "df = pd.DataFrame(data, columns=['A', 'B', 'C', 'D'])"
   ]
  },
  {
   "cell_type": "code",
   "execution_count": 3,
   "metadata": {},
   "outputs": [],
   "source": [
    "#replae some values in nan values\n",
    "df.iloc[1, 2] = np.nan\n",
    "df.iloc[4, 0] = np.nan\n",
    "df.iloc[7, 3] = np.nan"
   ]
  },
  {
   "cell_type": "code",
   "execution_count": 6,
   "metadata": {},
   "outputs": [
    {
     "data": {
      "text/html": [
       "<style type=\"text/css\">\n",
       "#T_e4440_row1_col2, #T_e4440_row4_col0, #T_e4440_row7_col3 {\n",
       "  background-color: green;\n",
       "}\n",
       "</style>\n",
       "<table id=\"T_e4440\">\n",
       "  <thead>\n",
       "    <tr>\n",
       "      <th class=\"blank level0\" >&nbsp;</th>\n",
       "      <th id=\"T_e4440_level0_col0\" class=\"col_heading level0 col0\" >A</th>\n",
       "      <th id=\"T_e4440_level0_col1\" class=\"col_heading level0 col1\" >B</th>\n",
       "      <th id=\"T_e4440_level0_col2\" class=\"col_heading level0 col2\" >C</th>\n",
       "      <th id=\"T_e4440_level0_col3\" class=\"col_heading level0 col3\" >D</th>\n",
       "    </tr>\n",
       "  </thead>\n",
       "  <tbody>\n",
       "    <tr>\n",
       "      <th id=\"T_e4440_level0_row0\" class=\"row_heading level0 row0\" >0</th>\n",
       "      <td id=\"T_e4440_row0_col0\" class=\"data row0 col0\" >0.374540</td>\n",
       "      <td id=\"T_e4440_row0_col1\" class=\"data row0 col1\" >0.950714</td>\n",
       "      <td id=\"T_e4440_row0_col2\" class=\"data row0 col2\" >0.731994</td>\n",
       "      <td id=\"T_e4440_row0_col3\" class=\"data row0 col3\" >0.598658</td>\n",
       "    </tr>\n",
       "    <tr>\n",
       "      <th id=\"T_e4440_level0_row1\" class=\"row_heading level0 row1\" >1</th>\n",
       "      <td id=\"T_e4440_row1_col0\" class=\"data row1 col0\" >0.156019</td>\n",
       "      <td id=\"T_e4440_row1_col1\" class=\"data row1 col1\" >0.155995</td>\n",
       "      <td id=\"T_e4440_row1_col2\" class=\"data row1 col2\" >nan</td>\n",
       "      <td id=\"T_e4440_row1_col3\" class=\"data row1 col3\" >0.866176</td>\n",
       "    </tr>\n",
       "    <tr>\n",
       "      <th id=\"T_e4440_level0_row2\" class=\"row_heading level0 row2\" >2</th>\n",
       "      <td id=\"T_e4440_row2_col0\" class=\"data row2 col0\" >0.601115</td>\n",
       "      <td id=\"T_e4440_row2_col1\" class=\"data row2 col1\" >0.708073</td>\n",
       "      <td id=\"T_e4440_row2_col2\" class=\"data row2 col2\" >0.020584</td>\n",
       "      <td id=\"T_e4440_row2_col3\" class=\"data row2 col3\" >0.969910</td>\n",
       "    </tr>\n",
       "    <tr>\n",
       "      <th id=\"T_e4440_level0_row3\" class=\"row_heading level0 row3\" >3</th>\n",
       "      <td id=\"T_e4440_row3_col0\" class=\"data row3 col0\" >0.832443</td>\n",
       "      <td id=\"T_e4440_row3_col1\" class=\"data row3 col1\" >0.212339</td>\n",
       "      <td id=\"T_e4440_row3_col2\" class=\"data row3 col2\" >0.181825</td>\n",
       "      <td id=\"T_e4440_row3_col3\" class=\"data row3 col3\" >0.183405</td>\n",
       "    </tr>\n",
       "    <tr>\n",
       "      <th id=\"T_e4440_level0_row4\" class=\"row_heading level0 row4\" >4</th>\n",
       "      <td id=\"T_e4440_row4_col0\" class=\"data row4 col0\" >nan</td>\n",
       "      <td id=\"T_e4440_row4_col1\" class=\"data row4 col1\" >0.524756</td>\n",
       "      <td id=\"T_e4440_row4_col2\" class=\"data row4 col2\" >0.431945</td>\n",
       "      <td id=\"T_e4440_row4_col3\" class=\"data row4 col3\" >0.291229</td>\n",
       "    </tr>\n",
       "    <tr>\n",
       "      <th id=\"T_e4440_level0_row5\" class=\"row_heading level0 row5\" >5</th>\n",
       "      <td id=\"T_e4440_row5_col0\" class=\"data row5 col0\" >0.611853</td>\n",
       "      <td id=\"T_e4440_row5_col1\" class=\"data row5 col1\" >0.139494</td>\n",
       "      <td id=\"T_e4440_row5_col2\" class=\"data row5 col2\" >0.292145</td>\n",
       "      <td id=\"T_e4440_row5_col3\" class=\"data row5 col3\" >0.366362</td>\n",
       "    </tr>\n",
       "    <tr>\n",
       "      <th id=\"T_e4440_level0_row6\" class=\"row_heading level0 row6\" >6</th>\n",
       "      <td id=\"T_e4440_row6_col0\" class=\"data row6 col0\" >0.456070</td>\n",
       "      <td id=\"T_e4440_row6_col1\" class=\"data row6 col1\" >0.785176</td>\n",
       "      <td id=\"T_e4440_row6_col2\" class=\"data row6 col2\" >0.199674</td>\n",
       "      <td id=\"T_e4440_row6_col3\" class=\"data row6 col3\" >0.514234</td>\n",
       "    </tr>\n",
       "    <tr>\n",
       "      <th id=\"T_e4440_level0_row7\" class=\"row_heading level0 row7\" >7</th>\n",
       "      <td id=\"T_e4440_row7_col0\" class=\"data row7 col0\" >0.592415</td>\n",
       "      <td id=\"T_e4440_row7_col1\" class=\"data row7 col1\" >0.046450</td>\n",
       "      <td id=\"T_e4440_row7_col2\" class=\"data row7 col2\" >0.607545</td>\n",
       "      <td id=\"T_e4440_row7_col3\" class=\"data row7 col3\" >nan</td>\n",
       "    </tr>\n",
       "    <tr>\n",
       "      <th id=\"T_e4440_level0_row8\" class=\"row_heading level0 row8\" >8</th>\n",
       "      <td id=\"T_e4440_row8_col0\" class=\"data row8 col0\" >0.065052</td>\n",
       "      <td id=\"T_e4440_row8_col1\" class=\"data row8 col1\" >0.948886</td>\n",
       "      <td id=\"T_e4440_row8_col2\" class=\"data row8 col2\" >0.965632</td>\n",
       "      <td id=\"T_e4440_row8_col3\" class=\"data row8 col3\" >0.808397</td>\n",
       "    </tr>\n",
       "    <tr>\n",
       "      <th id=\"T_e4440_level0_row9\" class=\"row_heading level0 row9\" >9</th>\n",
       "      <td id=\"T_e4440_row9_col0\" class=\"data row9 col0\" >0.304614</td>\n",
       "      <td id=\"T_e4440_row9_col1\" class=\"data row9 col1\" >0.097672</td>\n",
       "      <td id=\"T_e4440_row9_col2\" class=\"data row9 col2\" >0.684233</td>\n",
       "      <td id=\"T_e4440_row9_col3\" class=\"data row9 col3\" >0.440152</td>\n",
       "    </tr>\n",
       "  </tbody>\n",
       "</table>\n"
      ],
      "text/plain": [
       "<pandas.io.formats.style.Styler at 0x11c5d3250>"
      ]
     },
     "execution_count": 6,
     "metadata": {},
     "output_type": "execute_result"
    }
   ],
   "source": [
    "def highlight_nan(s):\n",
    "    return ['background-color: green' if pd.isna(v) else '' for v in s]\n",
    "\n",
    "styled_df = df.style.apply(highlight_nan, axis=1)\n",
    "styled_df"
   ]
  }
 ],
 "metadata": {
  "kernelspec": {
   "display_name": "Python 3",
   "language": "python",
   "name": "python3"
  },
  "language_info": {
   "codemirror_mode": {
    "name": "ipython",
    "version": 3
   },
   "file_extension": ".py",
   "mimetype": "text/x-python",
   "name": "python",
   "nbconvert_exporter": "python",
   "pygments_lexer": "ipython3",
   "version": "3.13.0"
  }
 },
 "nbformat": 4,
 "nbformat_minor": 2
}
